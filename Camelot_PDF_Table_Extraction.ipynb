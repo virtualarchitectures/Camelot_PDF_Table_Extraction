{
 "cells": [
  {
   "cell_type": "markdown",
   "id": "163c0c4a",
   "metadata": {},
   "source": [
    "# PDF Table Extraction using Camelot in Python"
   ]
  },
  {
   "cell_type": "markdown",
   "id": "25d0f7e1",
   "metadata": {},
   "source": [
    "Camelot is an open-source Python library, that enables developers to extract all tables from the PDF document and convert it to Pandas Dataframe format: https://camelot-py.readthedocs.io/\n",
    "\n",
    "**Installation**\n",
    "\n",
    "1. Camelot has two dependencies [Ghostscript](https://www.ghostscript.com/) and [Tkinter](https://wiki.python.org/moin/TkInter) which must first be installed. The installation process differs depending on your operating system: https://camelot-py.readthedocs.io/en/master/user/install-deps.html#install-deps\n",
    "2. Install Camelot: `pip install \"camelot-py[cv]\"` OR `conda install -c conda-forge camelot-py`.\n",
    "3. Visual debugging using Camelot's `plot()` function requires matplotlib which is an optional dependency. You can install it using `pip install camelot-py[plot]` if matplotlib is not already included in your python development environment.\n",
    "\n",
    "**Note:** Camelot only works with text-based PDFs, not scanned documents.\n",
    "\n",
    "**Quickstart**\n",
    "\n",
    "Useful quickstart guides can be found here:\n",
    "- [Extract Tables from PDF file in a single line of Python Code](https://towardsdatascience.com/extract-tables-from-pdf-file-in-a-single-line-of-python-code-5b572cd9fbe5)\n",
    "- [Extracting tabular data from PDFs made easy with Camelot.](https://towardsdatascience.com/extracting-tabular-data-from-pdfs-made-easy-with-camelot-80c13967cc88)"
   ]
  },
  {
   "cell_type": "markdown",
   "id": "e40f2174",
   "metadata": {},
   "source": [
    "#### Import Packages"
   ]
  },
  {
   "cell_type": "code",
   "execution_count": 52,
   "id": "a3d52c78",
   "metadata": {},
   "outputs": [],
   "source": [
    "import camelot"
   ]
  },
  {
   "cell_type": "markdown",
   "id": "ff89cf9d",
   "metadata": {},
   "source": [
    "#### Set input file path for PDFs\n",
    "\n",
    "Files obtained from W3C examples:\n",
    "- Example 1: [table](https://www.w3.org/WAI/WCAG20/Techniques/working-examples/PDF20/table.pdf)\n",
    "- Example 2: [sample1](https://s16458.pcdn.co/wp-content/uploads/2017/01/sample1.pdf)"
   ]
  },
  {
   "cell_type": "code",
   "execution_count": 117,
   "id": "334b3473",
   "metadata": {},
   "outputs": [],
   "source": [
    "#input_filepath = \"input_pdfs/table.pdf\"\n",
    "input_filepath = \"input_pdfs/sample1.pdf\""
   ]
  },
  {
   "cell_type": "markdown",
   "id": "a048fda0",
   "metadata": {},
   "source": [
    "## Read the pdf file\n",
    "\n",
    "Camelot will only parse the first page if the pages parameter is not set. The pages parameter accepts comma separated numbers `'1,2,3,7'`, number ranges `'3-5'`, or a combinaton of the two `'1,3-5,7'`. Pages may contain multiple tables. All parsed tables will be extracted to a table list of 'n' length."
   ]
  },
  {
   "cell_type": "code",
   "execution_count": 118,
   "id": "3329bfc0",
   "metadata": {},
   "outputs": [
    {
     "data": {
      "text/plain": [
       "<TableList n=2>"
      ]
     },
     "execution_count": 118,
     "metadata": {},
     "output_type": "execute_result"
    }
   ],
   "source": [
    "tables = camelot.read_pdf(input_filepath, pages='1')\n",
    "tables"
   ]
  },
  {
   "cell_type": "markdown",
   "id": "a4744d62",
   "metadata": {},
   "source": [
    "#### Print table parsing report"
   ]
  },
  {
   "cell_type": "code",
   "execution_count": 119,
   "id": "48b0cf56",
   "metadata": {
    "scrolled": true
   },
   "outputs": [
    {
     "data": {
      "text/plain": [
       "{'accuracy': 100.0, 'whitespace': 0.0, 'order': 1, 'page': 1}"
      ]
     },
     "execution_count": 119,
     "metadata": {},
     "output_type": "execute_result"
    }
   ],
   "source": [
    "tables[0].parsing_report"
   ]
  },
  {
   "cell_type": "markdown",
   "id": "e8c00d74",
   "metadata": {},
   "source": [
    "#### Access the nth table  as dataframe"
   ]
  },
  {
   "cell_type": "code",
   "execution_count": 120,
   "id": "d68aae68",
   "metadata": {
    "scrolled": true
   },
   "outputs": [
    {
     "data": {
      "text/html": [
       "<div>\n",
       "<style scoped>\n",
       "    .dataframe tbody tr th:only-of-type {\n",
       "        vertical-align: middle;\n",
       "    }\n",
       "\n",
       "    .dataframe tbody tr th {\n",
       "        vertical-align: top;\n",
       "    }\n",
       "\n",
       "    .dataframe thead th {\n",
       "        text-align: right;\n",
       "    }\n",
       "</style>\n",
       "<table border=\"1\" class=\"dataframe\">\n",
       "  <thead>\n",
       "    <tr style=\"text-align: right;\">\n",
       "      <th></th>\n",
       "      <th>0</th>\n",
       "      <th>1</th>\n",
       "      <th>2</th>\n",
       "      <th>3</th>\n",
       "      <th>4</th>\n",
       "      <th>5</th>\n",
       "    </tr>\n",
       "  </thead>\n",
       "  <tbody>\n",
       "    <tr>\n",
       "      <th>0</th>\n",
       "      <td>Date</td>\n",
       "      <td>Open</td>\n",
       "      <td>High</td>\n",
       "      <td>Low</td>\n",
       "      <td>Close / Last</td>\n",
       "      <td>Volume</td>\n",
       "    </tr>\n",
       "    <tr>\n",
       "      <th>1</th>\n",
       "      <td>01/04/2017</td>\n",
       "      <td>62.48</td>\n",
       "      <td>62.75</td>\n",
       "      <td>62.12</td>\n",
       "      <td>62.3</td>\n",
       "      <td>21,325,140</td>\n",
       "    </tr>\n",
       "    <tr>\n",
       "      <th>2</th>\n",
       "      <td>01/03/2017</td>\n",
       "      <td>62.79</td>\n",
       "      <td>62.84</td>\n",
       "      <td>62.125</td>\n",
       "      <td>62.58</td>\n",
       "      <td>20,655,190</td>\n",
       "    </tr>\n",
       "    <tr>\n",
       "      <th>3</th>\n",
       "      <td>12/30/2016</td>\n",
       "      <td>62.96</td>\n",
       "      <td>62.99</td>\n",
       "      <td>62.03</td>\n",
       "      <td>62.14</td>\n",
       "      <td>25,575,720</td>\n",
       "    </tr>\n",
       "    <tr>\n",
       "      <th>4</th>\n",
       "      <td>12/29/2016</td>\n",
       "      <td>62.86</td>\n",
       "      <td>63.2</td>\n",
       "      <td>62.73</td>\n",
       "      <td>62.9</td>\n",
       "      <td>10,248,460</td>\n",
       "    </tr>\n",
       "    <tr>\n",
       "      <th>5</th>\n",
       "      <td>12/28/2016</td>\n",
       "      <td>63.4</td>\n",
       "      <td>63.4</td>\n",
       "      <td>62.83</td>\n",
       "      <td>62.99</td>\n",
       "      <td>14,348,340</td>\n",
       "    </tr>\n",
       "    <tr>\n",
       "      <th>6</th>\n",
       "      <td>12/27/2016</td>\n",
       "      <td>63.21</td>\n",
       "      <td>64.07</td>\n",
       "      <td>63.21</td>\n",
       "      <td>63.28</td>\n",
       "      <td>11,743,650</td>\n",
       "    </tr>\n",
       "    <tr>\n",
       "      <th>7</th>\n",
       "      <td>12/23/2016</td>\n",
       "      <td>63.45</td>\n",
       "      <td>63.54</td>\n",
       "      <td>62.8</td>\n",
       "      <td>63.24</td>\n",
       "      <td>12,399,540</td>\n",
       "    </tr>\n",
       "    <tr>\n",
       "      <th>8</th>\n",
       "      <td>12/22/2016</td>\n",
       "      <td>63.84</td>\n",
       "      <td>64.1</td>\n",
       "      <td>63.405</td>\n",
       "      <td>63.55</td>\n",
       "      <td>22,175,270</td>\n",
       "    </tr>\n",
       "    <tr>\n",
       "      <th>9</th>\n",
       "      <td>12/21/2016</td>\n",
       "      <td>63.43</td>\n",
       "      <td>63.7</td>\n",
       "      <td>63.12</td>\n",
       "      <td>63.54</td>\n",
       "      <td>17,084,370</td>\n",
       "    </tr>\n",
       "    <tr>\n",
       "      <th>10</th>\n",
       "      <td>12/20/2016</td>\n",
       "      <td>63.69</td>\n",
       "      <td>63.8</td>\n",
       "      <td>63.025</td>\n",
       "      <td>63.54</td>\n",
       "      <td>26,017,470</td>\n",
       "    </tr>\n",
       "    <tr>\n",
       "      <th>11</th>\n",
       "      <td>12/19/2016</td>\n",
       "      <td>62.56</td>\n",
       "      <td>63.77</td>\n",
       "      <td>62.42</td>\n",
       "      <td>63.62</td>\n",
       "      <td>34,318,500</td>\n",
       "    </tr>\n",
       "    <tr>\n",
       "      <th>12</th>\n",
       "      <td>12/16/2016</td>\n",
       "      <td>62.95</td>\n",
       "      <td>62.95</td>\n",
       "      <td>62.115</td>\n",
       "      <td>62.3</td>\n",
       "      <td>42,452,660</td>\n",
       "    </tr>\n",
       "  </tbody>\n",
       "</table>\n",
       "</div>"
      ],
      "text/plain": [
       "             0      1      2       3             4           5\n",
       "0         Date   Open   High     Low  Close / Last      Volume\n",
       "1   01/04/2017  62.48  62.75   62.12          62.3  21,325,140\n",
       "2   01/03/2017  62.79  62.84  62.125         62.58  20,655,190\n",
       "3   12/30/2016  62.96  62.99   62.03         62.14  25,575,720\n",
       "4   12/29/2016  62.86   63.2   62.73          62.9  10,248,460\n",
       "5   12/28/2016   63.4   63.4   62.83         62.99  14,348,340\n",
       "6   12/27/2016  63.21  64.07   63.21         63.28  11,743,650\n",
       "7   12/23/2016  63.45  63.54    62.8         63.24  12,399,540\n",
       "8   12/22/2016  63.84   64.1  63.405         63.55  22,175,270\n",
       "9   12/21/2016  63.43   63.7   63.12         63.54  17,084,370\n",
       "10  12/20/2016  63.69   63.8  63.025         63.54  26,017,470\n",
       "11  12/19/2016  62.56  63.77   62.42         63.62  34,318,500\n",
       "12  12/16/2016  62.95  62.95  62.115          62.3  42,452,660"
      ]
     },
     "execution_count": 120,
     "metadata": {},
     "output_type": "execute_result"
    }
   ],
   "source": [
    "tables[0].df"
   ]
  },
  {
   "cell_type": "markdown",
   "id": "cf0f95b6",
   "metadata": {},
   "source": [
    "## Visual Debugging"
   ]
  },
  {
   "cell_type": "markdown",
   "id": "45c0c91d",
   "metadata": {},
   "source": [
    "Camelot's `plot()` method to generate a matplotlib plot of various elements that were detected on the PDF during processing. The following plot types are supported:\n",
    "- ‘text’\n",
    "- ‘grid’\n",
    "- ‘contour’\n",
    "- ‘line’\n",
    "- ‘joint’\n",
    "- ‘textedge’\n",
    "\n",
    "Further information available here: https://camelot-py.readthedocs.io/en/master/user/advanced.html#visual-debugging"
   ]
  },
  {
   "cell_type": "markdown",
   "id": "0bf3d12e",
   "metadata": {},
   "source": [
    "#### Plot the parsed regions of the PDF by kind"
   ]
  },
  {
   "cell_type": "code",
   "execution_count": 121,
   "id": "7e767c3c",
   "metadata": {},
   "outputs": [
    {
     "data": {
      "image/png": "[encoded data removed]",
      "text/plain": [
       "<Figure size 432x288 with 1 Axes>"
      ]
     },
     "execution_count": 121,
     "metadata": {},
     "output_type": "execute_result"
    },
    {
     "data": {
      "image/png": "[encoded data removed]",
      "text/plain": [
       "<Figure size 432x288 with 1 Axes>"
      ]
     },
     "metadata": {
      "needs_background": "light"
     },
     "output_type": "display_data"
    }
   ],
   "source": [
    "camelot.plot(tables[0], kind='text')"
   ]
  },
  {
   "cell_type": "markdown",
   "id": "09ad683a",
   "metadata": {},
   "source": [
    "## Export Tables"
   ]
  },
  {
   "cell_type": "code",
   "execution_count": 122,
   "id": "7c26225c",
   "metadata": {},
   "outputs": [],
   "source": [
    "output_filepath = 'output_tables/'\n",
    "filename = 'output'\n",
    "file_format = 'csv'"
   ]
  },
  {
   "cell_type": "markdown",
   "id": "e7bb79c4",
   "metadata": {},
   "source": [
    "#### Export file"
   ]
  },
  {
   "cell_type": "code",
   "execution_count": 123,
   "id": "ad4430cf",
   "metadata": {},
   "outputs": [],
   "source": [
    "tables.export(output_filepath + filename + '.' + file_format, f=file_format)"
   ]
  },
  {
   "cell_type": "code",
   "execution_count": null,
   "id": "cd230bd2",
   "metadata": {},
   "outputs": [],
   "source": []
  }
 ],
 "metadata": {
  "kernelspec": {
   "display_name": "Python 3",
   "language": "python",
   "name": "python3"
  },
  "language_info": {
   "codemirror_mode": {
    "name": "ipython",
    "version": 3
   },
   "file_extension": ".py",
   "mimetype": "text/x-python",
   "name": "python",
   "nbconvert_exporter": "python",
   "pygments_lexer": "ipython3",
   "version": "3.7.10"
  }
 },
 "nbformat": 4,
 "nbformat_minor": 5
}
